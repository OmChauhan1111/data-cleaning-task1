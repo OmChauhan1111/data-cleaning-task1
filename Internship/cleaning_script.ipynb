{
 "cells": [
  {
   "cell_type": "code",
   "execution_count": 2,
   "id": "e59f1374-97a2-420e-8baa-73a31f065036",
   "metadata": {},
   "outputs": [],
   "source": [
    "import pandas as pd\n",
    "\n",
    "df = pd.read_csv(\"appointments.csv\") \n"
   ]
  },
  {
   "cell_type": "code",
   "execution_count": 3,
   "id": "12671bcf-3383-43d6-8e46-3932bc603f64",
   "metadata": {},
   "outputs": [
    {
     "name": "stdout",
     "output_type": "stream",
     "text": [
      "PatientId         0\n",
      "AppointmentID     0\n",
      "Gender            0\n",
      "ScheduledDay      0\n",
      "AppointmentDay    0\n",
      "Age               0\n",
      "Neighbourhood     0\n",
      "Scholarship       0\n",
      "Hipertension      0\n",
      "Diabetes          0\n",
      "Alcoholism        0\n",
      "Handcap           0\n",
      "SMS_received      0\n",
      "No-show           0\n",
      "dtype: int64\n"
     ]
    }
   ],
   "source": [
    "print(df.isnull().sum())\n"
   ]
  },
  {
   "cell_type": "code",
   "execution_count": 24,
   "id": "f8e77e7f-b095-4347-8f7f-6f20a16a10eb",
   "metadata": {},
   "outputs": [],
   "source": [
    "#Drop duplicate rows if any\n",
    "df = df.drop_duplicates()"
   ]
  },
  {
   "cell_type": "code",
   "execution_count": 25,
   "id": "8af7299a-1cbe-4861-ab7d-6ad0f0cbc87a",
   "metadata": {},
   "outputs": [],
   "source": [
    " #Rename columns to lowercase and replace spaces with underscores\n",
    "df.columns = df.columns.str.lower().str.replace(' ', '_')\n"
   ]
  },
  {
   "cell_type": "code",
   "execution_count": 26,
   "id": "7a45ac91-5f64-4bee-a2f4-ae1e47dbef17",
   "metadata": {},
   "outputs": [],
   "source": [
    "#  Fix inconsistent gender values (if needed)\n",
    "df['gender'] = df['gender'].str.upper().str.strip()"
   ]
  },
  {
   "cell_type": "code",
   "execution_count": 27,
   "id": "c6a2ee31-d925-4a3a-91bb-7da179c61743",
   "metadata": {},
   "outputs": [],
   "source": [
    "# Convert date columns to datetime format\n",
    "df['scheduledday'] = pd.to_datetime(df['scheduledday'])\n",
    "df['appointmentday'] = pd.to_datetime(df['appointmentday'])"
   ]
  },
  {
   "cell_type": "code",
   "execution_count": 28,
   "id": "bd2aba50-f9e0-442e-93c6-3070eac55ba3",
   "metadata": {},
   "outputs": [],
   "source": [
    "#  Check and fix data types (e.g., age should be int and non-negative)\n",
    "df = df[df['age'] >= 0]  # remove negative age values\n",
    "df['age'] = df['age'].astype(int)"
   ]
  },
  {
   "cell_type": "code",
   "execution_count": 29,
   "id": "2dce7110-8ede-4de0-af38-44a8e0e2d918",
   "metadata": {},
   "outputs": [],
   "source": [
    "#  Optional - create new column for waiting time\n",
    "df['waiting_days'] = (df['appointmentday'] - df['scheduledday']).dt.days"
   ]
  },
  {
   "cell_type": "code",
   "execution_count": 30,
   "id": "389731c2-2dac-49d1-be43-97eaea195088",
   "metadata": {},
   "outputs": [],
   "source": [
    "# Save cleaned dataset\n",
    "df.to_csv(\"cleaned_medical_appointments.csv\", index=False)\n"
   ]
  },
  {
   "cell_type": "code",
   "execution_count": 32,
   "id": "c645b07f-3324-41fb-83a2-654f98a40c47",
   "metadata": {},
   "outputs": [
    {
     "name": "stdout",
     "output_type": "stream",
     "text": [
      "Data cleaned and saved as 'cleaned_medical_appointments.csv'\n"
     ]
    }
   ],
   "source": [
    "#  Summary\n",
    "print(\"Data cleaned and saved as 'cleaned_medical_appointments.csv'\")"
   ]
  },
  {
   "cell_type": "code",
   "execution_count": null,
   "id": "d0a0da56-4bd3-41eb-bf43-99845b29e821",
   "metadata": {},
   "outputs": [],
   "source": []
  }
 ],
 "metadata": {
  "kernelspec": {
   "display_name": "Python 3 (ipykernel)",
   "language": "python",
   "name": "python3"
  },
  "language_info": {
   "codemirror_mode": {
    "name": "ipython",
    "version": 3
   },
   "file_extension": ".py",
   "mimetype": "text/x-python",
   "name": "python",
   "nbconvert_exporter": "python",
   "pygments_lexer": "ipython3",
   "version": "3.11.7"
  }
 },
 "nbformat": 4,
 "nbformat_minor": 5
}
